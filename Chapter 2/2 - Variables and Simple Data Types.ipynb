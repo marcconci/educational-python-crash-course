{
 "cells": [
  {
   "cell_type": "markdown",
   "id": "67ecc35a",
   "metadata": {},
   "source": [
    "### 2 - Variables and Simple Data Types"
   ]
  },
  {
   "cell_type": "markdown",
   "id": "6be5e68e",
   "metadata": {},
   "source": [
    "Write a separate program to accomplish each of these exercises. Save each program with a filename that follows standard Python conventions, using lowercase letters and underscores, such as simple_message.py and\n",
    "simple_messages.py."
   ]
  },
  {
   "cell_type": "markdown",
   "id": "c3fb0fe4",
   "metadata": {},
   "source": [
    "__2-1. Simple Message:__ Store a message in a variable, and then print that message. "
   ]
  },
  {
   "cell_type": "code",
   "execution_count": 3,
   "id": "c7a222d3",
   "metadata": {},
   "outputs": [
    {
     "name": "stdout",
     "output_type": "stream",
     "text": [
      "This is a simple message\n"
     ]
    }
   ],
   "source": [
    "message = \"This is a simple message\"\n",
    "print(message)"
   ]
  },
  {
   "cell_type": "markdown",
   "id": "a438d8d7",
   "metadata": {},
   "source": [
    "__2-2. Simple Messages:__ Store a message in a variable, and print that message. Then change the value of your variable to a new message, and print the new\n",
    "message."
   ]
  },
  {
   "cell_type": "code",
   "execution_count": 4,
   "id": "c294e79e",
   "metadata": {},
   "outputs": [
    {
     "name": "stdout",
     "output_type": "stream",
     "text": [
      "This is my first simple message\n",
      "This is my second simple message\n"
     ]
    }
   ],
   "source": [
    "message = \"This is my first simple message\"\n",
    "print(message)\n",
    "message = \"This is my second simple message\"\n",
    "print(message)"
   ]
  },
  {
   "cell_type": "markdown",
   "id": "cf359fd2",
   "metadata": {},
   "source": [
    "***"
   ]
  },
  {
   "cell_type": "markdown",
   "id": "2a5a4c66",
   "metadata": {},
   "source": [
    "Save each of the following exercises as a separate file with a name like name_cases.py. If you get stuck, take a break or see the suggestions in\n",
    "Appendix C."
   ]
  },
  {
   "cell_type": "markdown",
   "id": "b79e2a7d",
   "metadata": {},
   "source": [
    "__2-3. Personal Message:__ Store a person’s name in a variable, and print a message to that person. Your message should be simple, such as, “Hello Eric,\n",
    "would you like to learn some Python today?”"
   ]
  },
  {
   "cell_type": "code",
   "execution_count": 7,
   "id": "a5e5a7bd",
   "metadata": {},
   "outputs": [
    {
     "name": "stdout",
     "output_type": "stream",
     "text": [
      "Hello Marcos,would you like to learn some Python today?\n"
     ]
    }
   ],
   "source": [
    "name = \"Marcos\"\n",
    "print(f\"Hello {name},would you like to learn some Python today?\")"
   ]
  },
  {
   "cell_type": "markdown",
   "id": "48b3a0f6",
   "metadata": {},
   "source": [
    "__2-4. Name Cases:__ Store a person’s name in a variable, and then print that person’s name in lowercase, uppercase, and titlecase."
   ]
  },
  {
   "cell_type": "code",
   "execution_count": 10,
   "id": "a8e60a11",
   "metadata": {},
   "outputs": [
    {
     "name": "stdout",
     "output_type": "stream",
     "text": [
      "marcos\n",
      "MARCOS\n",
      "Marcos\n"
     ]
    }
   ],
   "source": [
    "name = \"Marcos\"\n",
    "print(name.lower())\n",
    "print(name.upper())\n",
    "print(name.title())"
   ]
  },
  {
   "cell_type": "markdown",
   "id": "71719b93",
   "metadata": {},
   "source": [
    "__2-5. Famous Quote:__ Find a quote from a famous person you admire. Print the quote and the name of its author. Your output should look something like the following, including the quotation marks:\n",
    "    Albert Einstein once said, “A person who never made a\n",
    "    mistake never tried anything new.”"
   ]
  },
  {
   "cell_type": "code",
   "execution_count": 13,
   "id": "ff119e7c",
   "metadata": {},
   "outputs": [
    {
     "name": "stdout",
     "output_type": "stream",
     "text": [
      "Chico Xavier once said, \"Though nobody can go back and make a new beginning... Anyone can start over and make a new ending.\"\n"
     ]
    }
   ],
   "source": [
    "print('Chico Xavier once said, \"Though nobody can go back and make a new beginning... Anyone can start over and make a new ending.\"')\n"
   ]
  },
  {
   "cell_type": "markdown",
   "id": "8c5d2f23",
   "metadata": {},
   "source": [
    "__2-6. Famous Quote 2:__ Repeat Exercise 2-5, but this time store the famous person’s name in a variable called famous_person. Then compose your message and store it in a new variable called message. Print your message."
   ]
  },
  {
   "cell_type": "code",
   "execution_count": 15,
   "id": "0d812d82",
   "metadata": {},
   "outputs": [
    {
     "name": "stdout",
     "output_type": "stream",
     "text": [
      "Chico Xavier once said, \"Though nobody can go back and make a new beginning... Anyone can start over and make a new ending.\"\n"
     ]
    }
   ],
   "source": [
    "famous_person = \"Chico Xavier\"\n",
    "message = famous_person + ' once said, \"Though nobody can go back and make a new beginning... Anyone can start over and make a new ending.\"'\n",
    "print(message)"
   ]
  },
  {
   "cell_type": "markdown",
   "id": "6ebf84ed",
   "metadata": {},
   "source": [
    "__2-7. Stripping Names:__ Store a person’s name, and include some whitespace characters at the beginning and end of the name. Make sure you use each character combination, \"\\t\" and \"\\n\", at least once. Print the name once, so the whitespace around the name is displayed.\n",
    "Then print the name using each of the three stripping functions, lstrip(),\n",
    "rstrip(), and strip()."
   ]
  },
  {
   "cell_type": "code",
   "execution_count": 18,
   "id": "f98b9ab1",
   "metadata": {},
   "outputs": [
    {
     "name": "stdout",
     "output_type": "stream",
     "text": [
      "\n",
      "\tMarcos\t\n",
      "Marcos\t\n",
      "\n",
      "\tMarcos\n",
      "Marcos\n"
     ]
    }
   ],
   "source": [
    "name = \"\\n\\tMarcos\\t\"\n",
    "print(name)\n",
    "print(name.lstrip())\n",
    "print(name.rstrip())\n",
    "print(name.strip())"
   ]
  },
  {
   "cell_type": "markdown",
   "id": "71d12c17",
   "metadata": {},
   "source": [
    "__2-8. Number Eight:__ Write addition, subtraction, multiplication, and division operations that each result in the number 8. Be sure to enclose your operations in print statements to see the results. You should create four lines that look like this:\n",
    "\n",
    "print(5 + 3) \n",
    "\n",
    "Your output should simply be four lines with the number 8 appearing once on each line."
   ]
  },
  {
   "cell_type": "code",
   "execution_count": 1,
   "id": "180db7d6",
   "metadata": {},
   "outputs": [
    {
     "name": "stdout",
     "output_type": "stream",
     "text": [
      "8\n"
     ]
    }
   ],
   "source": [
    "print(1+7)"
   ]
  },
  {
   "cell_type": "code",
   "execution_count": 2,
   "id": "46d8efd9",
   "metadata": {},
   "outputs": [
    {
     "name": "stdout",
     "output_type": "stream",
     "text": [
      "8\n"
     ]
    }
   ],
   "source": [
    "print(10-2)"
   ]
  },
  {
   "cell_type": "code",
   "execution_count": 3,
   "id": "1e6d0022",
   "metadata": {},
   "outputs": [
    {
     "name": "stdout",
     "output_type": "stream",
     "text": [
      "8\n"
     ]
    }
   ],
   "source": [
    "print(2*4)"
   ]
  },
  {
   "cell_type": "code",
   "execution_count": 5,
   "id": "de3b7496",
   "metadata": {},
   "outputs": [
    {
     "name": "stdout",
     "output_type": "stream",
     "text": [
      "8\n"
     ]
    }
   ],
   "source": [
    "print(int(24/3))"
   ]
  },
  {
   "cell_type": "markdown",
   "id": "c87f7875",
   "metadata": {},
   "source": [
    "__2-9. Favorite Number:__ Store your favorite number in a variable. Then, using that variable, create a message that reveals your favorite number. Print that\n",
    "message."
   ]
  },
  {
   "cell_type": "code",
   "execution_count": 8,
   "id": "17c8e49b",
   "metadata": {},
   "outputs": [
    {
     "name": "stdout",
     "output_type": "stream",
     "text": [
      "3.141592653589793\n"
     ]
    }
   ],
   "source": [
    "# Import math Library\n",
    "import math\n",
    "# Store the Pi Number\n",
    "pi = math.pi\n",
    "# Print the value of pi\n",
    "print (pi)"
   ]
  },
  {
   "cell_type": "markdown",
   "id": "e73ffb07",
   "metadata": {},
   "source": [
    "__2-10. Adding Comments:__ Choose two of the programs you’ve written, and add at least one comment to each. If you don’t have anything specific to write because your programs are too simple at this point, just add your name and the current date at the top of each program file. Then write one sentence\n",
    "describing what the program does."
   ]
  },
  {
   "cell_type": "code",
   "execution_count": 11,
   "id": "2ac24d9f",
   "metadata": {},
   "outputs": [
    {
     "name": "stdout",
     "output_type": "stream",
     "text": [
      "3.141592653589793\n"
     ]
    }
   ],
   "source": [
    "#The math.pi constant returns the value of PI: 3.141592653589793.\n",
    "print(math.pi)"
   ]
  },
  {
   "cell_type": "markdown",
   "id": "3b919004",
   "metadata": {},
   "source": [
    "__2-11. Zen of Python:__ Enter import this into a Python terminal session and skim through the additional principles."
   ]
  },
  {
   "cell_type": "code",
   "execution_count": 12,
   "id": "3f8f0999",
   "metadata": {},
   "outputs": [
    {
     "name": "stdout",
     "output_type": "stream",
     "text": [
      "The Zen of Python, by Tim Peters\n",
      "\n",
      "Beautiful is better than ugly.\n",
      "Explicit is better than implicit.\n",
      "Simple is better than complex.\n",
      "Complex is better than complicated.\n",
      "Flat is better than nested.\n",
      "Sparse is better than dense.\n",
      "Readability counts.\n",
      "Special cases aren't special enough to break the rules.\n",
      "Although practicality beats purity.\n",
      "Errors should never pass silently.\n",
      "Unless explicitly silenced.\n",
      "In the face of ambiguity, refuse the temptation to guess.\n",
      "There should be one-- and preferably only one --obvious way to do it.\n",
      "Although that way may not be obvious at first unless you're Dutch.\n",
      "Now is better than never.\n",
      "Although never is often better than *right* now.\n",
      "If the implementation is hard to explain, it's a bad idea.\n",
      "If the implementation is easy to explain, it may be a good idea.\n",
      "Namespaces are one honking great idea -- let's do more of those!\n"
     ]
    }
   ],
   "source": [
    "import this"
   ]
  }
 ],
 "metadata": {
  "kernelspec": {
   "display_name": "Python 3 (ipykernel)",
   "language": "python",
   "name": "python3"
  },
  "language_info": {
   "codemirror_mode": {
    "name": "ipython",
    "version": 3
   },
   "file_extension": ".py",
   "mimetype": "text/x-python",
   "name": "python",
   "nbconvert_exporter": "python",
   "pygments_lexer": "ipython3",
   "version": "3.10.9"
  }
 },
 "nbformat": 4,
 "nbformat_minor": 5
}
